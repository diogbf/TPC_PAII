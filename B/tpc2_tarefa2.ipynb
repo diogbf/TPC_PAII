{
 "cells": [
  {
   "cell_type": "markdown",
   "metadata": {},
   "source": [
    "## TPC2 tarefa 2 - Python"
   ]
  },
  {
   "cell_type": "code",
   "execution_count": 1,
   "metadata": {},
   "outputs": [],
   "source": [
    "import csv\n",
    "import numpy as np\n",
    "import pandas as pd\n",
    "pd.set_option('display.min_rows', 20)\n",
    "import matplotlib.pyplot as plt\n",
    "%matplotlib inline"
   ]
  },
  {
   "cell_type": "code",
   "execution_count": 2,
   "metadata": {},
   "outputs": [],
   "source": [
    "# For compatibility across multiple platforms\n",
    "import os\n",
    "IB = os.environ.get('INSTABASE_URI',None) is not None\n",
    "open = ib.open if IB else open"
   ]
  },
  {
   "cell_type": "code",
   "execution_count": null,
   "metadata": {},
   "outputs": [],
   "source": []
  },
  {
   "cell_type": "markdown",
   "metadata": {},
   "source": [
    "### <font color = 'green'>World Cup with Pandas</font>\n",
    "Solve the problems using the data in Pandas dataframes."
   ]
  },
  {
   "cell_type": "code",
   "execution_count": 12,
   "metadata": {},
   "outputs": [
    {
     "data": {
      "text/html": [
       "<div>\n",
       "<style scoped>\n",
       "    .dataframe tbody tr th:only-of-type {\n",
       "        vertical-align: middle;\n",
       "    }\n",
       "\n",
       "    .dataframe tbody tr th {\n",
       "        vertical-align: top;\n",
       "    }\n",
       "\n",
       "    .dataframe thead th {\n",
       "        text-align: right;\n",
       "    }\n",
       "</style>\n",
       "<table border=\"1\" class=\"dataframe\">\n",
       "  <thead>\n",
       "    <tr style=\"text-align: right;\">\n",
       "      <th></th>\n",
       "      <th>surname</th>\n",
       "      <th>team</th>\n",
       "      <th>position</th>\n",
       "      <th>minutes</th>\n",
       "      <th>shots</th>\n",
       "      <th>passes</th>\n",
       "      <th>tackles</th>\n",
       "      <th>saves</th>\n",
       "    </tr>\n",
       "  </thead>\n",
       "  <tbody>\n",
       "    <tr>\n",
       "      <th>0</th>\n",
       "      <td>Abdoun</td>\n",
       "      <td>Algeria</td>\n",
       "      <td>midfielder</td>\n",
       "      <td>16</td>\n",
       "      <td>0</td>\n",
       "      <td>6</td>\n",
       "      <td>0</td>\n",
       "      <td>0</td>\n",
       "    </tr>\n",
       "    <tr>\n",
       "      <th>1</th>\n",
       "      <td>Belhadj</td>\n",
       "      <td>Algeria</td>\n",
       "      <td>defender</td>\n",
       "      <td>270</td>\n",
       "      <td>1</td>\n",
       "      <td>146</td>\n",
       "      <td>8</td>\n",
       "      <td>0</td>\n",
       "    </tr>\n",
       "    <tr>\n",
       "      <th>2</th>\n",
       "      <td>Boudebouz</td>\n",
       "      <td>Algeria</td>\n",
       "      <td>midfielder</td>\n",
       "      <td>74</td>\n",
       "      <td>3</td>\n",
       "      <td>28</td>\n",
       "      <td>1</td>\n",
       "      <td>0</td>\n",
       "    </tr>\n",
       "    <tr>\n",
       "      <th>3</th>\n",
       "      <td>Bougherra</td>\n",
       "      <td>Algeria</td>\n",
       "      <td>defender</td>\n",
       "      <td>270</td>\n",
       "      <td>1</td>\n",
       "      <td>89</td>\n",
       "      <td>11</td>\n",
       "      <td>0</td>\n",
       "    </tr>\n",
       "    <tr>\n",
       "      <th>4</th>\n",
       "      <td>Chaouchi</td>\n",
       "      <td>Algeria</td>\n",
       "      <td>goalkeeper</td>\n",
       "      <td>90</td>\n",
       "      <td>0</td>\n",
       "      <td>17</td>\n",
       "      <td>0</td>\n",
       "      <td>2</td>\n",
       "    </tr>\n",
       "  </tbody>\n",
       "</table>\n",
       "</div>"
      ],
      "text/plain": [
       "     surname     team    position  minutes  shots  passes  tackles  saves\n",
       "0     Abdoun  Algeria  midfielder       16      0       6        0      0\n",
       "1    Belhadj  Algeria    defender      270      1     146        8      0\n",
       "2  Boudebouz  Algeria  midfielder       74      3      28        1      0\n",
       "3  Bougherra  Algeria    defender      270      1      89       11      0\n",
       "4   Chaouchi  Algeria  goalkeeper       90      0      17        0      2"
      ]
     },
     "execution_count": 12,
     "metadata": {},
     "output_type": "execute_result"
    }
   ],
   "source": [
    "# Read the Players and Teams data into dataframes\n",
    "f = open('Players.csv')\n",
    "playersDF = pd.read_csv(f)\n",
    "f = open('Teams.csv')\n",
    "teamsDF = pd.read_csv(f)\n",
    "playersDF.head()"
   ]
  },
  {
   "cell_type": "code",
   "execution_count": 13,
   "metadata": {},
   "outputs": [
    {
     "name": "stdout",
     "output_type": "stream",
     "text": [
      "ultimo nome é Kuzmanovic\n"
     ]
    }
   ],
   "source": [
    "#Qual jogador (print do ultimo nome) de uma equipa com \"ia\" no nome, que jogou menos de 200 minutos e fez mais de 100 passes?\n",
    "jogador = playersDF[playersDF.team.str.contains(\"ia\") & (playersDF.minutes <200) & (playersDF.passes > 100)]\n",
    "\n",
    "surname=playersDF.loc[431, \"surname\"]\n",
    "\n",
    "print(\"ultimo nome é\", surname)"
   ]
  },
  {
   "cell_type": "code",
   "execution_count": 17,
   "metadata": {},
   "outputs": [
    {
     "name": "stdout",
     "output_type": "stream",
     "text": [
      "mediade passes feitos pelos avançados: 50.82517482517483\n",
      "mediade passes feitos pelos medios: 95.2719298245614\n"
     ]
    }
   ],
   "source": [
    "# Qual é o número médio de passes feitos pelos avançados? Pelos meio-campistas?\n",
    "avancados= playersDF[playersDF.position == 'forward']\n",
    "medavan= avancados.passes.mean()\n",
    "medios= playersDF[playersDF.position == 'midfielder']\n",
    "medmed= medios.passes.mean()\n",
    "# Verifique se a resposta especifica qual é qual e não inclua outras\n",
    "# posições no seu resultado.\n",
    "print(\"mediade passes feitos pelos avançados:\",medavan)\n",
    "print(\"mediade passes feitos pelos medios:\",medmed)"
   ]
  },
  {
   "cell_type": "code",
   "execution_count": 66,
   "metadata": {},
   "outputs": [
    {
     "name": "stdout",
     "output_type": "stream",
     "text": [
      "A equipa que tem maior racio é Portugal\n"
     ]
    }
   ],
   "source": [
    "# Qual equipe tem a maior relação (razão, racio, etc) de goalsFor versus goalsAgainst?\n",
    "# Imprima apenas o nome da equipa.\n",
    "# Dica: adicione uma coluna \"racio\" ao dataframe das equipas e, depois, faça o seu \"sort\" e, \n",
    "# em seguida, use a head(1) ou tail(1) ...\n",
    "teamsDF[\"racio\"] = teamsDF.goalsFor/teamsDF.goalsAgainst\n",
    "teamsDF_sorted = teamsDF.sort_values(by = \"racio\",ascending = False)\n",
    "teamsDF_sorted.head(1)\n",
    "team=teamsDF.loc[2, \"team\"]\n",
    "print(\"A equipa que tem maior racio é\", team)"
   ]
  },
  {
   "cell_type": "code",
   "execution_count": 86,
   "metadata": {},
   "outputs": [
    {
     "name": "stdout",
     "output_type": "stream",
     "text": [
      "O numero de jogadores que jogam numa equipa com ranking <10, jogaram mais de 350 minutos é 54\n"
     ]
    }
   ],
   "source": [
    "# Quantos jogadores que jogam numa equipa com ranking <10, jogaram mais de 350 minutos?    \n",
    "# Lembrete: len() fornece o número de linhas que um dataframe contém \n",
    "rank_10 = teamsDF[teamsDF['ranking'] <10]\n",
    "teams_rank_10_players = playersDF[playersDF.team.isin(teams_rank_10)]\n",
    "teams_rank_10_players_350min =teams_rank_10_players[teams_rank_10_players['minutes'] > 350]\n",
    "num_players = len(teams_rank_10_players_350min)\n",
    "print(\"O numero de jogadores que jogam numa equipa com ranking <10, jogaram mais de 350 minutos é\",num_players)"
   ]
  },
  {
   "cell_type": "markdown",
   "metadata": {},
   "source": [
    "### <font color = 'green'>Titanic with Pandas</font>\n",
    "Solve the problems using the data in Pandas dataframe."
   ]
  },
  {
   "cell_type": "code",
   "execution_count": 11,
   "metadata": {},
   "outputs": [
    {
     "data": {
      "text/html": [
       "<div>\n",
       "<style scoped>\n",
       "    .dataframe tbody tr th:only-of-type {\n",
       "        vertical-align: middle;\n",
       "    }\n",
       "\n",
       "    .dataframe tbody tr th {\n",
       "        vertical-align: top;\n",
       "    }\n",
       "\n",
       "    .dataframe thead th {\n",
       "        text-align: right;\n",
       "    }\n",
       "</style>\n",
       "<table border=\"1\" class=\"dataframe\">\n",
       "  <thead>\n",
       "    <tr style=\"text-align: right;\">\n",
       "      <th></th>\n",
       "      <th>last</th>\n",
       "      <th>first</th>\n",
       "      <th>gender</th>\n",
       "      <th>age</th>\n",
       "      <th>class</th>\n",
       "      <th>fare</th>\n",
       "      <th>embarked</th>\n",
       "      <th>survived</th>\n",
       "    </tr>\n",
       "  </thead>\n",
       "  <tbody>\n",
       "    <tr>\n",
       "      <th>0</th>\n",
       "      <td>Braund</td>\n",
       "      <td>Mr. Owen Harris</td>\n",
       "      <td>M</td>\n",
       "      <td>22.0</td>\n",
       "      <td>3</td>\n",
       "      <td>7.2500</td>\n",
       "      <td>Southampton</td>\n",
       "      <td>no</td>\n",
       "    </tr>\n",
       "    <tr>\n",
       "      <th>1</th>\n",
       "      <td>Cumings</td>\n",
       "      <td>Mrs. John Bradley (Florence Briggs Thayer)</td>\n",
       "      <td>F</td>\n",
       "      <td>38.0</td>\n",
       "      <td>1</td>\n",
       "      <td>71.2833</td>\n",
       "      <td>Cherbourg</td>\n",
       "      <td>yes</td>\n",
       "    </tr>\n",
       "    <tr>\n",
       "      <th>2</th>\n",
       "      <td>Heikkinen</td>\n",
       "      <td>Miss Laina</td>\n",
       "      <td>F</td>\n",
       "      <td>26.0</td>\n",
       "      <td>3</td>\n",
       "      <td>7.9250</td>\n",
       "      <td>Southampton</td>\n",
       "      <td>yes</td>\n",
       "    </tr>\n",
       "    <tr>\n",
       "      <th>3</th>\n",
       "      <td>Futrelle</td>\n",
       "      <td>Mrs. Jacques Heath (Lily May Peel)</td>\n",
       "      <td>F</td>\n",
       "      <td>35.0</td>\n",
       "      <td>1</td>\n",
       "      <td>53.1000</td>\n",
       "      <td>Southampton</td>\n",
       "      <td>yes</td>\n",
       "    </tr>\n",
       "    <tr>\n",
       "      <th>4</th>\n",
       "      <td>Allen</td>\n",
       "      <td>Mr. William Henry</td>\n",
       "      <td>M</td>\n",
       "      <td>35.0</td>\n",
       "      <td>3</td>\n",
       "      <td>8.0500</td>\n",
       "      <td>Southampton</td>\n",
       "      <td>no</td>\n",
       "    </tr>\n",
       "  </tbody>\n",
       "</table>\n",
       "</div>"
      ],
      "text/plain": [
       "        last                                       first gender   age  class  \\\n",
       "0     Braund                             Mr. Owen Harris      M  22.0      3   \n",
       "1    Cumings  Mrs. John Bradley (Florence Briggs Thayer)      F  38.0      1   \n",
       "2  Heikkinen                                  Miss Laina      F  26.0      3   \n",
       "3   Futrelle          Mrs. Jacques Heath (Lily May Peel)      F  35.0      1   \n",
       "4      Allen                           Mr. William Henry      M  35.0      3   \n",
       "\n",
       "      fare     embarked survived  \n",
       "0   7.2500  Southampton       no  \n",
       "1  71.2833    Cherbourg      yes  \n",
       "2   7.9250  Southampton      yes  \n",
       "3  53.1000  Southampton      yes  \n",
       "4   8.0500  Southampton       no  "
      ]
     },
     "execution_count": 11,
     "metadata": {},
     "output_type": "execute_result"
    }
   ],
   "source": [
    "# Read the Titanic data into a dataframe\n",
    "f = open('Titanic.csv')\n",
    "titanicDF = pd.read_csv(f)\n",
    "titanicDF.head()"
   ]
  },
  {
   "cell_type": "code",
   "execution_count": 7,
   "metadata": {},
   "outputs": [
    {
     "name": "stdout",
     "output_type": "stream",
     "text": [
      "Embarcaram em Cherbourg 33 mulheres casadas\n"
     ]
    }
   ],
   "source": [
    "# Quantas mulheres casadas embarcaram em Cherbourg?\n",
    "# Nota: 'first' é uma função no Pandas, então 'titanic.first' irá gerar um erro;\n",
    "# use 'titanic[' first ']\n",
    "\n",
    "mulheres_casadas = titanicDF[titanicDF['first'].str.contains(\"Mrs.\") & (titanicDF.embarked =='Cherbourg')]\n",
    "n_mulheres_casadas=len(mulheres_casadas)\n",
    "print(\"Embarcaram em Cherbourg\", n_mulheres_casadas, \"mulheres casadas\")"
   ]
  },
  {
   "cell_type": "code",
   "execution_count": 9,
   "metadata": {},
   "outputs": [
    {
     "name": "stdout",
     "output_type": "stream",
     "text": [
      "['Southampton' 'Cherbourg' 'Queenstown']\n",
      "Média das tarifas na cidade de Southampton 27.243651393188795\n",
      "Média das tarifas na cidade de Cherbourg 59.95414404761905\n",
      "Média das tarifas na cidade de Queenstown 13.276029870129872\n"
     ]
    }
   ],
   "source": [
    "# Liste a tarifa média paga pelos passageiros em cada uma das cidades de embarque.\n",
    "city = titanicDF.embarked.unique()\n",
    "print(city)\n",
    "Southampton = titanicDF[titanicDF.embarked == 'Southampton']\n",
    "fare_Southampton = Southampton.fare.mean()\n",
    "print(\"Média das tarifas na cidade de Southampton\", fare_Southampton )\n",
    "\n",
    "Cherbourg = titanicDF[titanicDF.embarked == 'Cherbourg']\n",
    "fare_Cherbourg = Cherbourg.fare.mean()\n",
    "print(\"Média das tarifas na cidade de Cherbourg\", fare_Cherbourg)\n",
    "\n",
    "Queenstown = titanicDF[titanicDF.embarked == 'Queenstown']\n",
    "fare_Queenstown = Queenstown.fare.mean()\n",
    "print(\"Média das tarifas na cidade de Queenstown\", fare_Queenstown)\n"
   ]
  },
  {
   "cell_type": "code",
   "execution_count": 62,
   "metadata": {},
   "outputs": [
    {
     "name": "stdout",
     "output_type": "stream",
     "text": [
      "Existem 177 valores nulos na coluna da idade\n"
     ]
    }
   ],
   "source": [
    "# Os valores inexistentes (missing)  no Pandas são nulos (null), impressos como 'NaN' e\n",
    "# a function pd.isnull(v) verifica se um valor é nulo.\n",
    "# Que fração dos passageiros não tem valor para a idade?\n",
    "nulos = titanicDF.isnull().sum().sum()\n",
    "print(\"Existem\",nulos,\"valores nulos na coluna da idade\")"
   ]
  },
  {
   "cell_type": "code",
   "execution_count": null,
   "metadata": {},
   "outputs": [],
   "source": []
  }
 ],
 "metadata": {
  "kernelspec": {
   "display_name": "Python 3",
   "language": "python",
   "name": "python3"
  },
  "language_info": {
   "codemirror_mode": {
    "name": "ipython",
    "version": 3
   },
   "file_extension": ".py",
   "mimetype": "text/x-python",
   "name": "python",
   "nbconvert_exporter": "python",
   "pygments_lexer": "ipython3",
   "version": "3.7.6"
  }
 },
 "nbformat": 4,
 "nbformat_minor": 1
}
