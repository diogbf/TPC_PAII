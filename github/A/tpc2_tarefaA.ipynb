{
 "cells": [
  {
   "cell_type": "code",
   "execution_count": 8,
   "metadata": {},
   "outputs": [],
   "source": [
    "import csv\n",
    "import pandas as pd"
   ]
  },
  {
   "cell_type": "code",
   "execution_count": 9,
   "metadata": {},
   "outputs": [],
   "source": [
    "#Para ler o ficheiro escolhido usamos a função \"read_csv\" \n",
    "c = open('2015_Thefts_Cars.csv')\n",
    "carsDF =pd.read_csv(c)"
   ]
  },
  {
   "cell_type": "code",
   "execution_count": 11,
   "metadata": {},
   "outputs": [
    {
     "data": {
      "text/html": [
       "<div>\n",
       "<style scoped>\n",
       "    .dataframe tbody tr th:only-of-type {\n",
       "        vertical-align: middle;\n",
       "    }\n",
       "\n",
       "    .dataframe tbody tr th {\n",
       "        vertical-align: top;\n",
       "    }\n",
       "\n",
       "    .dataframe thead th {\n",
       "        text-align: right;\n",
       "    }\n",
       "</style>\n",
       "<table border=\"1\" class=\"dataframe\">\n",
       "  <thead>\n",
       "    <tr style=\"text-align: right;\">\n",
       "      <th></th>\n",
       "      <th>State</th>\n",
       "      <th>Rank</th>\n",
       "      <th>Make/Model</th>\n",
       "      <th>Model Year</th>\n",
       "      <th>Thefts</th>\n",
       "    </tr>\n",
       "  </thead>\n",
       "  <tbody>\n",
       "    <tr>\n",
       "      <th>0</th>\n",
       "      <td>Alabama</td>\n",
       "      <td>1.0</td>\n",
       "      <td>Chevrolet Pickup (Full Size)</td>\n",
       "      <td>2005.0</td>\n",
       "      <td>499</td>\n",
       "    </tr>\n",
       "    <tr>\n",
       "      <th>1</th>\n",
       "      <td>Alabama</td>\n",
       "      <td>2.0</td>\n",
       "      <td>Ford Pickup (Full Size)</td>\n",
       "      <td>2006.0</td>\n",
       "      <td>357</td>\n",
       "    </tr>\n",
       "    <tr>\n",
       "      <th>2</th>\n",
       "      <td>Alabama</td>\n",
       "      <td>3.0</td>\n",
       "      <td>Toyota Camry</td>\n",
       "      <td>2014.0</td>\n",
       "      <td>205</td>\n",
       "    </tr>\n",
       "    <tr>\n",
       "      <th>3</th>\n",
       "      <td>Alabama</td>\n",
       "      <td>4.0</td>\n",
       "      <td>Nissan Altima</td>\n",
       "      <td>2014.0</td>\n",
       "      <td>191</td>\n",
       "    </tr>\n",
       "    <tr>\n",
       "      <th>4</th>\n",
       "      <td>Alabama</td>\n",
       "      <td>4.0</td>\n",
       "      <td>Chevrolet Impala</td>\n",
       "      <td>2004.0</td>\n",
       "      <td>191</td>\n",
       "    </tr>\n",
       "    <tr>\n",
       "      <th>5</th>\n",
       "      <td>Alabama</td>\n",
       "      <td>5.0</td>\n",
       "      <td>Honda Accord</td>\n",
       "      <td>1998.0</td>\n",
       "      <td>180</td>\n",
       "    </tr>\n",
       "    <tr>\n",
       "      <th>6</th>\n",
       "      <td>Alabama</td>\n",
       "      <td>6.0</td>\n",
       "      <td>GMC Pickup (Full Size)</td>\n",
       "      <td>1999.0</td>\n",
       "      <td>152</td>\n",
       "    </tr>\n",
       "    <tr>\n",
       "      <th>7</th>\n",
       "      <td>Alabama</td>\n",
       "      <td>7.0</td>\n",
       "      <td>Dodge Pickup (Full Size)</td>\n",
       "      <td>1998.0</td>\n",
       "      <td>138</td>\n",
       "    </tr>\n",
       "    <tr>\n",
       "      <th>8</th>\n",
       "      <td>Alabama</td>\n",
       "      <td>8.0</td>\n",
       "      <td>Ford Mustang</td>\n",
       "      <td>2002.0</td>\n",
       "      <td>122</td>\n",
       "    </tr>\n",
       "    <tr>\n",
       "      <th>9</th>\n",
       "      <td>Alabama</td>\n",
       "      <td>9.0</td>\n",
       "      <td>Ford Explorer</td>\n",
       "      <td>2002.0</td>\n",
       "      <td>119</td>\n",
       "    </tr>\n",
       "  </tbody>\n",
       "</table>\n",
       "</div>"
      ],
      "text/plain": [
       "     State  Rank                    Make/Model  Model Year Thefts\n",
       "0  Alabama   1.0  Chevrolet Pickup (Full Size)      2005.0   499 \n",
       "1  Alabama   2.0       Ford Pickup (Full Size)      2006.0   357 \n",
       "2  Alabama   3.0                  Toyota Camry      2014.0   205 \n",
       "3  Alabama   4.0                 Nissan Altima      2014.0   191 \n",
       "4  Alabama   4.0              Chevrolet Impala      2004.0   191 \n",
       "5  Alabama   5.0                  Honda Accord      1998.0   180 \n",
       "6  Alabama   6.0        GMC Pickup (Full Size)      1999.0   152 \n",
       "7  Alabama   7.0      Dodge Pickup (Full Size)      1998.0   138 \n",
       "8  Alabama   8.0                  Ford Mustang      2002.0   122 \n",
       "9  Alabama   9.0                 Ford Explorer      2002.0   119 "
      ]
     },
     "execution_count": 11,
     "metadata": {},
     "output_type": "execute_result"
    }
   ],
   "source": [
    "#Para ver as primeiras 10 linhas usamos a função \".head(10)\", em que 10 é o numero de linhas\n",
    "carsDF.head(10)"
   ]
  },
  {
   "cell_type": "code",
   "execution_count": 22,
   "metadata": {},
   "outputs": [
    {
     "data": {
      "text/plain": [
       "State          object\n",
       "Rank          float64\n",
       "Make/Model     object\n",
       "Model Year    float64\n",
       "Thefts         object\n",
       "dtype: object"
      ]
     },
     "execution_count": 22,
     "metadata": {},
     "output_type": "execute_result"
    }
   ],
   "source": [
    "#Para verificar o tipo de dados usamos a função \".dtypes\"\n",
    "carsDF.dtypes"
   ]
  },
  {
   "cell_type": "code",
   "execution_count": null,
   "metadata": {},
   "outputs": [],
   "source": []
  }
 ],
 "metadata": {
  "kernelspec": {
   "display_name": "Python 3",
   "language": "python",
   "name": "python3"
  },
  "language_info": {
   "codemirror_mode": {
    "name": "ipython",
    "version": 3
   },
   "file_extension": ".py",
   "mimetype": "text/x-python",
   "name": "python",
   "nbconvert_exporter": "python",
   "pygments_lexer": "ipython3",
   "version": "3.7.6"
  }
 },
 "nbformat": 4,
 "nbformat_minor": 4
}
